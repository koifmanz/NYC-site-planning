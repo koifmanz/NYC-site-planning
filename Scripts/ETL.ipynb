{
 "cells": [
  {
   "cell_type": "markdown",
   "metadata": {},
   "source": [
    "# ETL"
   ]
  },
  {
   "cell_type": "markdown",
   "metadata": {},
   "source": [
    "a notebook for the ETL process. The code can be found also in *etl.py*. All the work is based on PostgreSQL and Python.\n",
    "\n",
    "``` downloading the data from csv/json -> load into stage -> transform -> load into final db ```\n",
    "\n",
    " \n",
    "The *idea* is to build ETL for comapny who looking to find the best place to open business, based on travel and census data of NYC.\n",
    "\n",
    "For running the code you will first need to create the tabels and the schemes using *create.py*. For more info about the datasets please refere to the dict.md and write_up.md, the former include all datasets and the fields, while the later include info about the schema, the tools and  advanced scenario. Except those two files you can see more info on the main readme file.  \n",
    "\n",
    "\n",
    "### Road map:\n",
    "\n",
    "* Staging - **Done**\n",
    "    1. Staging census data\n",
    "    2. Staging taxi data\n",
    "    3. Staging grid data\n",
    "    4. Create a new PK for each table\n",
    "    5. data quality part 1 - tables records are not null\n",
    "* Transform - **Done**\n",
    "    1. Add geom field for all tables\n",
    "    2. Add 2 geom field for trips - for pickup and dropoff\n",
    "    3. data quality part 2 - check and fix invalid geometries\n",
    "    4. Spatial Joins:\n",
    "        * census with grid\n",
    "        * census with taxi zones\n",
    "        * trips pickup with grid\n",
    "        * trips pickup with zones\n",
    "        * trips dropoff with grid\n",
    "        * trips dropoff with grid\n",
    "    5. Create time table from trips table - need to be done for pickup and dropoff\n",
    "* Load - **Done**\n",
    "    1. Load census data into fact table 1\n",
    "    2. Load taxi data into fact table 2\n",
    "    3. Load time dim table\n",
    "    4. Load grid dim table\n",
    "    5. load taxi service zones dim table\n",
    "    6. data quality part 3 - tables records are not empty\n",
    "    \n"
   ]
  },
  {
   "cell_type": "markdown",
   "metadata": {},
   "source": [
    "Notes:\n",
    "\n",
    "* if using *shp2pgsql* one don't need to create table first "
   ]
  },
  {
   "cell_type": "code",
   "execution_count": 2,
   "metadata": {},
   "outputs": [],
   "source": [
    "%load_ext sql"
   ]
  },
  {
   "cell_type": "code",
   "execution_count": 13,
   "metadata": {},
   "outputs": [],
   "source": [
    "import configparser\n",
    "import numpy\n",
    "import os\n",
    "import pandas as pd\n",
    "import psycopg2\n",
    "import psycopg2.extras as extras\n",
    "from sqlalchemy import create_engine\n",
    "import sys"
   ]
  },
  {
   "cell_type": "markdown",
   "metadata": {},
   "source": [
    "## Staging The Data"
   ]
  },
  {
   "cell_type": "markdown",
   "metadata": {},
   "source": [
    "###  Support Functions"
   ]
  },
  {
   "cell_type": "code",
   "execution_count": 25,
   "metadata": {},
   "outputs": [],
   "source": [
    "def read_file(fpath, ftype, col=\"pk_id\"):\n",
    "    \"\"\"\n",
    "    Description: read a csv/json file to df and add id field\n",
    "    Arguments:\n",
    "        fpath: a file path\n",
    "        ftype: file type - json/csv\n",
    "        col: a name for the new id \n",
    "    Returns:\n",
    "        df: a panda data frame\n",
    "    \"\"\"\n",
    "        \n",
    "    if ftype == \"json\":\n",
    "        df = pd.read_json(fpath)\n",
    "        df[col] = range(1, 1+len(df))\n",
    "        return df\n",
    "    elif ftype == \"csv\":\n",
    "        df = pd.read_csv(fpath)\n",
    "        df[col] = range(1, 1+len(df))\n",
    "        return df"
   ]
  },
  {
   "cell_type": "code",
   "execution_count": 5,
   "metadata": {},
   "outputs": [],
   "source": [
    "def check_null(df):\n",
    "    \"\"\"\n",
    "    Description: check for null in pandas df. print results\n",
    "    Arguments:\n",
    "        df: a pandas dataframe\n",
    "    Returns:\n",
    "        None\n",
    "    \"\"\"\n",
    "    totalCount = df.shape[0]\n",
    "    print(f\"Total rows count is {totalCount}\")\n",
    "    listOfColumnNames = list(df)\n",
    "    for col in listOfColumnNames:\n",
    "        isNull = df[col].isnull().values.any()\n",
    "        if isNull == True:\n",
    "            nullCount = df[col].isnull().sum()\n",
    "            nullCountPrcnt = df[col].isnull().sum() / totalCount * 100\n",
    "            print(col, nullCount, nullCountPrcnt)"
   ]
  },
  {
   "cell_type": "code",
   "execution_count": 6,
   "metadata": {},
   "outputs": [
    {
     "name": "stdout",
     "output_type": "stream",
     "text": [
      "{'host': 'localhost', 'database': 'gis', 'user': 'ziv', 'password': 'password', 'port': '5433'}\n"
     ]
    }
   ],
   "source": [
    "def get_param(config_file):\n",
    "    \"\"\"\n",
    "    Description: extract postgres connection parmaters from config file\n",
    "    Arguments:\n",
    "        config_file: path to file\n",
    "    Returns:\n",
    "        a dict of paramters\n",
    "    \"\"\"\n",
    "    \n",
    "    config = configparser.ConfigParser()\n",
    "    config.read(config_file)\n",
    "    \n",
    "    host = config.get('postgres', 'host')\n",
    "    database = config.get('postgres', 'database')\n",
    "    username = config.get('postgres', 'user')\n",
    "    password = config.get('postgres', 'password')\n",
    "    port = config.get('postgres', 'port')\n",
    "    \n",
    "    param_dic = {\n",
    "    \"host\"      : host,\n",
    "    \"database\"  : database,\n",
    "    \"user\"      : username,\n",
    "    \"password\"  : password,\n",
    "    \"port\"      : port\n",
    "    }\n",
    "    \n",
    "    return param_dic \n",
    "\n",
    "param_dic = get_param(\"../finalData//config.cfg\") \n",
    "print(param_dic)"
   ]
  },
  {
   "cell_type": "code",
   "execution_count": 23,
   "metadata": {},
   "outputs": [],
   "source": [
    "def get_files_path(config_file):\n",
    "    \"\"\"\n",
    "    Description: extract csv/json files path from config file\n",
    "    Arguments:\n",
    "        config_file: path to file\n",
    "    Returns:\n",
    "        a dict of paths\n",
    "    \"\"\"\n",
    "    config = configparser.ConfigParser()\n",
    "    config.read(\"../finalData/config.cfg\")\n",
    "    trips_path = config.get('data', 'trips')\n",
    "    trips_path\n",
    "    \n",
    "    files_loc = {\n",
    "        \"trips\"            : config.get('data', 'trips'),\n",
    "        \"nyc_grid\"         : config.get('data', 'nyc_grid'),\n",
    "        \"census_tracts\"    : config.get('data', 'census_tracts'),\n",
    "        \"census_block_loc\" : config.get('data', 'census_block_loc'),\n",
    "        \"taxi_zones\"       : config.get('data', 'taxi_zones')\n",
    "    }\n",
    "    \n",
    "    return files_loc\n",
    "\n",
    "\n",
    "loc = get_files_path(\"../finalData/config.cfg\")"
   ]
  },
  {
   "cell_type": "code",
   "execution_count": 22,
   "metadata": {},
   "outputs": [],
   "source": [
    "def connect(params_dic):\n",
    "    \"\"\"\n",
    "    Description: Connect to the PostgreSQL database server\n",
    "    Arguments:\n",
    "        params_dic: a list of the parameters to connect to postgres\n",
    "    Returns:\n",
    "        conn: a connection to postgres db\n",
    "    \"\"\"\n",
    "    conn = None\n",
    "    try:\n",
    "        # connect to the PostgreSQL server\n",
    "        print('Connecting to the PostgreSQL database...')\n",
    "        conn = psycopg2.connect(**params_dic)\n",
    "    except (Exception, psycopg2.DatabaseError) as error:\n",
    "        print(error)\n",
    "        sys.exit(1) \n",
    "    print(\"Connection successful\")\n",
    "    return conn"
   ]
  },
  {
   "cell_type": "code",
   "execution_count": 12,
   "metadata": {},
   "outputs": [
    {
     "name": "stdout",
     "output_type": "stream",
     "text": [
      "Connecting to the PostgreSQL database...\n",
      "Connection successful\n"
     ]
    }
   ],
   "source": [
    "conn = connect(param_dic)"
   ]
  },
  {
   "cell_type": "code",
   "execution_count": 8,
   "metadata": {},
   "outputs": [],
   "source": [
    "def execute_values(conn, df, table, truncate=True):\n",
    "    \"\"\"\n",
    "    Description: Using psycopg2.extras.execute_values() to insert the dataframe into postgres\n",
    "    Arguments:\n",
    "        conn: a connection to postgres db\n",
    "        df: pandas df to load \n",
    "        table: postgres table to insert the data into \n",
    "    Returns:\n",
    "        None\n",
    "    \"\"\"\n",
    "    \n",
    "    tuples = [tuple(x) for x in df.to_numpy()]\n",
    "    cols = ','.join(list(df.columns))\n",
    "    query  = \"INSERT INTO %s(%s) VALUES %%s\" % (table, cols)\n",
    "    cursor = conn.cursor()\n",
    "    try:\n",
    "        if truncate:\n",
    "            trucate_query  = f\"TRUNCATE TABLE {table};\"\n",
    "            cursor.execute(trucate_query)\n",
    "        extras.execute_values(cursor, query, tuples)\n",
    "        conn.commit()\n",
    "    except (Exception, psycopg2.DatabaseError) as error:\n",
    "        print(\"Error: %s\" % error)\n",
    "        conn.rollback()\n",
    "        cursor.close()\n",
    "        return 1\n",
    "    print(\"execute_values() done\")\n",
    "    cursor.close()"
   ]
  },
  {
   "cell_type": "code",
   "execution_count": 9,
   "metadata": {},
   "outputs": [],
   "source": [
    "def merge_census(census, blocks, county=\"County\", census_key=\"CensusTract\"):\n",
    "    \"\"\"\n",
    "    Description: an helper function to merge census data with coordinates\n",
    "    Arguments:\n",
    "        census: a pandas census dataframe\n",
    "        blocks: a pandas census point location dataframe\n",
    "        county: a field in blocks to filter the nyc boros boros\n",
    "        census_key: census primary key \n",
    "    Returns:\n",
    "        pandas data frame with location data\n",
    "    \"\"\"\n",
    "    boros = ['Bronx','Kings','New York','Queens','Richmond']\n",
    "    blocks_df = blocks[blocks[county].isin(boros)]\n",
    "    blocks_df['tract'] = blocks_df.BlockCode // 10000\n",
    "    census_with_xy = blocks_df.merge(census, left_on='tract', right_on=census_key)\n",
    "    return census_with_xy"
   ]
  },
  {
   "cell_type": "code",
   "execution_count": 17,
   "metadata": {},
   "outputs": [],
   "source": [
    "def check_empty(conn, table):\n",
    "    \"\"\"\n",
    "    Description: data quality function, check if postgres table is empty\n",
    "    Arguments:\n",
    "        conn: psycopg2 connection to postgres\n",
    "        table: table name to load into\n",
    "    Returns:\n",
    "        string - with table is empty or not\n",
    "    \"\"\"\n",
    "    cursor = conn.cursor()\n",
    "    sql = f\"SELECT COUNT(*) FROM {table}\"\n",
    "    print (sql)\n",
    "    query = cursor.execute(sql)\n",
    "    res = cursor.fetchall()[0][0]\n",
    "    if res > 0:\n",
    "        return f\"table {table} is not empty, count: {res}\"\n",
    "    else:\n",
    "        return f\"table {table} is empty\""
   ]
  },
  {
   "cell_type": "markdown",
   "metadata": {},
   "source": [
    "### Reading and writing files"
   ]
  },
  {
   "cell_type": "code",
   "execution_count": 26,
   "metadata": {},
   "outputs": [],
   "source": [
    "trips_path = loc.get(\"trips\")\n",
    "census_block_loc_path = loc.get(\"census_block_loc\")\n",
    "census_tracts_path = loc.get(\"census_tracts\")\n",
    "nyc_grid_path = loc.get(\"nyc_grid\")\n",
    "taxi_zones_path = loc.get(\"taxi_zones\")\n",
    "\n",
    "trips = read_file(trips_path, \"csv\", \"trip_id\")\n",
    "census_block_loc = read_file(census_block_loc_path, \"csv\", \"census_block_id\")\n",
    "census_tracts = read_file(census_tracts_path, \"csv\", \"census_id\")\n",
    "nyc_grid = read_file(nyc_grid_path, \"json\", \"grid_id\")\n",
    "taxi_zones = read_file(taxi_zones_path, \"csv\", \"taxi_zone_id\")"
   ]
  },
  {
   "cell_type": "code",
   "execution_count": 12,
   "metadata": {},
   "outputs": [
    {
     "name": "stdout",
     "output_type": "stream",
     "text": [
      "execute_values() done\n"
     ]
    }
   ],
   "source": [
    "# load what we can allready\n",
    "execute_values(conn, trips, \"staging.trips\")"
   ]
  },
  {
   "cell_type": "code",
   "execution_count": 13,
   "metadata": {},
   "outputs": [
    {
     "name": "stdout",
     "output_type": "stream",
     "text": [
      "execute_values() done\n"
     ]
    }
   ],
   "source": [
    "execute_values(conn, taxi_zones, \"staging.taxi_zones\")"
   ]
  },
  {
   "cell_type": "code",
   "execution_count": 14,
   "metadata": {},
   "outputs": [
    {
     "name": "stdout",
     "output_type": "stream",
     "text": [
      "execute_values() done\n"
     ]
    }
   ],
   "source": [
    "execute_values(conn, nyc_grid, \"staging.grid_250m\")"
   ]
  },
  {
   "cell_type": "code",
   "execution_count": 15,
   "metadata": {},
   "outputs": [
    {
     "name": "stderr",
     "output_type": "stream",
     "text": [
      "<ipython-input-9-594625de2d60>:14: SettingWithCopyWarning: \n",
      "A value is trying to be set on a copy of a slice from a DataFrame.\n",
      "Try using .loc[row_indexer,col_indexer] = value instead\n",
      "\n",
      "See the caveats in the documentation: https://pandas.pydata.org/pandas-docs/stable/user_guide/indexing.html#returning-a-view-versus-a-copy\n",
      "  blocks_df['tract'] = blocks_df.BlockCode // 10000\n"
     ]
    }
   ],
   "source": [
    "# preapre census to loading\n",
    "census_data = merge_census(census_tracts, census_block_loc)"
   ]
  },
  {
   "cell_type": "code",
   "execution_count": 16,
   "metadata": {},
   "outputs": [
    {
     "name": "stdout",
     "output_type": "stream",
     "text": [
      "<class 'pandas.core.frame.DataFrame'>\n",
      "Int64Index: 18052 entries, 0 to 18051\n",
      "Data columns (total 44 columns):\n",
      " #   Column           Non-Null Count  Dtype  \n",
      "---  ------           --------------  -----  \n",
      " 0   Latitude         18052 non-null  float64\n",
      " 1   Longitude        18052 non-null  float64\n",
      " 2   BlockCode        18052 non-null  int64  \n",
      " 3   County_x         18052 non-null  object \n",
      " 4   State            18052 non-null  object \n",
      " 5   census_block_id  18052 non-null  int32  \n",
      " 6   tract            18052 non-null  int64  \n",
      " 7   CensusTract      18052 non-null  int64  \n",
      " 8   County_y         18052 non-null  object \n",
      " 9   Borough          18052 non-null  object \n",
      " 10  TotalPop         18052 non-null  int64  \n",
      " 11  Men              18052 non-null  int64  \n",
      " 12  Women            18052 non-null  int64  \n",
      " 13  Hispanic         12999 non-null  float64\n",
      " 14  White            12999 non-null  float64\n",
      " 15  Black            12999 non-null  float64\n",
      " 16  Native           12999 non-null  float64\n",
      " 17  Asian            12999 non-null  float64\n",
      " 18  Citizen          18052 non-null  int64  \n",
      " 19  Income           11947 non-null  float64\n",
      " 20  IncomeErr        11947 non-null  float64\n",
      " 21  IncomePerCap     12838 non-null  float64\n",
      " 22  IncomePerCapErr  12838 non-null  float64\n",
      " 23  Poverty          12830 non-null  float64\n",
      " 24  ChildPoverty     12401 non-null  float64\n",
      " 25  Professional     12777 non-null  float64\n",
      " 26  Service          12777 non-null  float64\n",
      " 27  Office           12777 non-null  float64\n",
      " 28  Construction     12777 non-null  float64\n",
      " 29  Production       12777 non-null  float64\n",
      " 30  Drive            12777 non-null  float64\n",
      " 31  Carpool          12777 non-null  float64\n",
      " 32  Transit          12777 non-null  float64\n",
      " 33  Walk             12777 non-null  float64\n",
      " 34  OtherTransp      12777 non-null  float64\n",
      " 35  WorkAtHome       12777 non-null  float64\n",
      " 36  MeanCommute      11864 non-null  float64\n",
      " 37  Employed         18052 non-null  int64  \n",
      " 38  PrivateWork      12777 non-null  float64\n",
      " 39  PublicWork       12777 non-null  float64\n",
      " 40  SelfEmployed     12777 non-null  float64\n",
      " 41  FamilyWork       12777 non-null  float64\n",
      " 42  Unemployment     12830 non-null  float64\n",
      " 43  census_id        18052 non-null  int32  \n",
      "dtypes: float64(30), int32(2), int64(8), object(4)\n",
      "memory usage: 6.1+ MB\n"
     ]
    }
   ],
   "source": [
    "census_data.info()"
   ]
  },
  {
   "cell_type": "code",
   "execution_count": 17,
   "metadata": {},
   "outputs": [
    {
     "name": "stdout",
     "output_type": "stream",
     "text": [
      "execute_values() done\n"
     ]
    }
   ],
   "source": [
    "execute_values(conn, census_data, \"staging.census\")"
   ]
  },
  {
   "cell_type": "markdown",
   "metadata": {},
   "source": [
    "### Check loading"
   ]
  },
  {
   "cell_type": "code",
   "execution_count": 18,
   "metadata": {},
   "outputs": [
    {
     "name": "stdout",
     "output_type": "stream",
     "text": [
      "SELECT COUNT(*) FROM staging.taxi_zones\n"
     ]
    },
    {
     "data": {
      "text/plain": [
       "'table staging.taxi_zones is not empty, count: 263'"
      ]
     },
     "execution_count": 18,
     "metadata": {},
     "output_type": "execute_result"
    }
   ],
   "source": [
    "check_empty(conn, \"staging.taxi_zones\")"
   ]
  },
  {
   "cell_type": "code",
   "execution_count": 19,
   "metadata": {},
   "outputs": [
    {
     "name": "stdout",
     "output_type": "stream",
     "text": [
      "SELECT COUNT(*) FROM staging.grid_250m\n"
     ]
    },
    {
     "data": {
      "text/plain": [
       "'table staging.grid_250m is not empty, count: 14058'"
      ]
     },
     "execution_count": 19,
     "metadata": {},
     "output_type": "execute_result"
    }
   ],
   "source": [
    "check_empty(conn, \"staging.grid_250m\")"
   ]
  },
  {
   "cell_type": "code",
   "execution_count": 20,
   "metadata": {},
   "outputs": [
    {
     "name": "stdout",
     "output_type": "stream",
     "text": [
      "SELECT COUNT(*) FROM staging.trips\n"
     ]
    },
    {
     "data": {
      "text/plain": [
       "'table staging.trips is not empty, count: 1458644'"
      ]
     },
     "execution_count": 20,
     "metadata": {},
     "output_type": "execute_result"
    }
   ],
   "source": [
    "check_empty(conn, \"staging.trips\")"
   ]
  },
  {
   "cell_type": "code",
   "execution_count": 21,
   "metadata": {},
   "outputs": [
    {
     "name": "stdout",
     "output_type": "stream",
     "text": [
      "SELECT COUNT(*) FROM staging.census\n"
     ]
    },
    {
     "data": {
      "text/plain": [
       "'table staging.census is not empty, count: 18052'"
      ]
     },
     "execution_count": 21,
     "metadata": {},
     "output_type": "execute_result"
    }
   ],
   "source": [
    "check_empty(conn, \"staging.census\")"
   ]
  },
  {
   "cell_type": "markdown",
   "metadata": {},
   "source": [
    "## Transform The Data\n",
    "\n",
    "In this part we have few tasks:\n",
    "\n",
    "1. Add geom field for all tables - **Done**\n",
    "2. Add 2 geom field for trips - for pickup and dropoff - **Done**\n",
    "3. Spatial Join: - **Done**\n",
    "    * census with grid\n",
    "    * census with taxi zones\n",
    "    * trips pickup with grid\n",
    "    * trips pickup with zones\n",
    "    * trips dropoff with grid\n",
    "    * trips dropoff with grid\n",
    "4. Create time table from trips table - need to be done for pickup and dropoff - **Done**"
   ]
  },
  {
   "cell_type": "code",
   "execution_count": 22,
   "metadata": {},
   "outputs": [],
   "source": [
    "def create_time_table(conn):\n",
    "    \"\"\"\n",
    "    Description: Create time table from trips table \n",
    "    Arguments:\n",
    "        conn: a connection to postgres db\n",
    "    Returns:\n",
    "        None\n",
    "    \"\"\"\n",
    "    \n",
    "    query = \"\"\"\n",
    "    BEGIN;\n",
    "    DROP TABLE IF EXISTS staging.trips_datetime;\n",
    "    \n",
    "    select \n",
    "        trip_id,\n",
    "        EXTRACT(YEAR from pickup_datetime) as pickup_year,\n",
    "        EXTRACT(MONTH from pickup_datetime) as pickup_month,\n",
    "        EXTRACT(DAY from pickup_datetime) as pickup_day,\n",
    "        EXTRACT(HOUR from pickup_datetime) as pickup_hour,\n",
    "        EXTRACT(MINUTE from pickup_datetime) as pickup_minute,\n",
    "        EXTRACT(YEAR from dropoff_datetime) as dropoff_year,\n",
    "        EXTRACT(MONTH from dropoff_datetime) as dropoff_month,\n",
    "        EXTRACT(DAY from dropoff_datetime) as dropoff_day,\n",
    "        EXTRACT(HOUR from dropoff_datetime) as dropoff_hour,\n",
    "        EXTRACT(MINUTE from dropoff_datetime) as dropoff_minute\n",
    "    into \n",
    "        staging.trips_datetime\n",
    "    from \n",
    "        staging.trips;\n",
    "        \n",
    "    COMMIT;\n",
    "    \"\"\"\n",
    "    cursor = conn.cursor()\n",
    "    \n",
    "    print(\"Create time table for trips table\")\n",
    "    cursor.execute(query)\n",
    "    \n",
    "    print(\"Commit...\")\n",
    "    conn.commit()\n",
    "    print(\"Create table completed...\")"
   ]
  },
  {
   "cell_type": "code",
   "execution_count": 23,
   "metadata": {},
   "outputs": [
    {
     "name": "stdout",
     "output_type": "stream",
     "text": [
      "Create time table for trips table\n",
      "Commit...\n",
      "Create table completed...\n"
     ]
    }
   ],
   "source": [
    "create_time_table(conn)"
   ]
  },
  {
   "cell_type": "code",
   "execution_count": 24,
   "metadata": {},
   "outputs": [
    {
     "name": "stdout",
     "output_type": "stream",
     "text": [
      "SELECT COUNT(*) FROM staging.trips_datetime\n"
     ]
    },
    {
     "data": {
      "text/plain": [
       "'table staging.trips_datetime is not empty, count: 1458644'"
      ]
     },
     "execution_count": 24,
     "metadata": {},
     "output_type": "execute_result"
    }
   ],
   "source": [
    "check_empty(conn, \"staging.trips_datetime\")"
   ]
  },
  {
   "cell_type": "code",
   "execution_count": 25,
   "metadata": {},
   "outputs": [],
   "source": [
    "def geom_from_wtl(conn, table, wkt_col, geom_col, epsg):\n",
    "    \"\"\"\n",
    "    Description: Create geom column from wkt in postgres table \n",
    "    Arguments:\n",
    "        conn: a connection to postgres db\n",
    "        table: table to create new geom column \n",
    "        wkt_col: name of column who have wkt info\n",
    "        geom_col: name for new columm where geom will be created\n",
    "        epsg: system refernce code\n",
    "    Returns:\n",
    "        None\n",
    "    \"\"\"\n",
    "    \n",
    "    query = f\"\"\"\n",
    "    ALTER TABLE {table} \n",
    "    DROP COLUMN IF EXISTS {geom_col};\n",
    "    \n",
    "    ALTER TABLE {table} ADD COLUMN {geom_col} GEOMETRY;\n",
    "\n",
    "    UPDATE {table}\n",
    "    SET geom = GeomFromText(({wkt_col}), {epsg});\n",
    "    \"\"\"\n",
    "    \n",
    "    print(query)\n",
    "    cursor = conn.cursor()\n",
    "    \n",
    "    print(\"Creating geom field\")\n",
    "    cursor.execute(query)\n",
    "    \n",
    "    print(\"Commit...\")\n",
    "    conn.commit()\n",
    "    print(\"completed...\")\n",
    "    \n",
    "\n",
    "def geom_from_lat_lon(conn, table, lon_col, lat_col, geom_col, epsg):\n",
    "    \"\"\"\n",
    "    Description: Create geom column from lat and lon columns in postgres table \n",
    "    Arguments:\n",
    "        conn: a connection to postgres db\n",
    "        table: table to create new geom column \n",
    "        lon_col: name of column who have lat coordiantes\n",
    "        lat_col: name of column who have lon coordiantes\n",
    "        epsg: system refernce code\n",
    "    Returns:\n",
    "        None\n",
    "    \"\"\"\n",
    "    \n",
    "    query = f\"\"\"\n",
    "    ALTER TABLE {table} \n",
    "    DROP COLUMN IF EXISTS {geom_col};\n",
    "    \n",
    "    ALTER TABLE {table} ADD COLUMN {geom_col} GEOMETRY;\n",
    "\n",
    "    UPDATE {table}\n",
    "    SET {geom_col} = GeomFromText(CONCAT('POINT(' ,{lon_col},' ', {lat_col}, ')'), {epsg});\n",
    "    \"\"\"\n",
    "    \n",
    "    print(query)\n",
    "    cursor = conn.cursor()\n",
    "    \n",
    "    print(\"Creating geom field\")\n",
    "    cursor.execute(query)\n",
    "    \n",
    "    print(\"Commit...\")\n",
    "    conn.commit()\n",
    "    print(\"completed...\")"
   ]
  },
  {
   "cell_type": "code",
   "execution_count": 26,
   "metadata": {},
   "outputs": [
    {
     "name": "stdout",
     "output_type": "stream",
     "text": [
      "\n",
      "    ALTER TABLE staging.taxi_zones \n",
      "    DROP COLUMN IF EXISTS geom;\n",
      "    \n",
      "    ALTER TABLE staging.taxi_zones ADD COLUMN geom GEOMETRY;\n",
      "\n",
      "    UPDATE staging.taxi_zones\n",
      "    SET geom = GeomFromText((wkt), 4326);\n",
      "    \n",
      "Creating geom field\n",
      "Commit...\n",
      "completed...\n"
     ]
    }
   ],
   "source": [
    "geom_from_wtl(conn,'staging.taxi_zones', 'wkt', 'geom', '4326')"
   ]
  },
  {
   "cell_type": "code",
   "execution_count": 27,
   "metadata": {},
   "outputs": [
    {
     "name": "stdout",
     "output_type": "stream",
     "text": [
      "\n",
      "    ALTER TABLE staging.grid_250m \n",
      "    DROP COLUMN IF EXISTS geom;\n",
      "    \n",
      "    ALTER TABLE staging.grid_250m ADD COLUMN geom GEOMETRY;\n",
      "\n",
      "    UPDATE staging.grid_250m\n",
      "    SET geom = GeomFromText((wkt), 4326);\n",
      "    \n",
      "Creating geom field\n",
      "Commit...\n",
      "completed...\n"
     ]
    }
   ],
   "source": [
    "geom_from_wtl(conn,'staging.grid_250m', 'wkt', 'geom', '4326')"
   ]
  },
  {
   "cell_type": "code",
   "execution_count": 28,
   "metadata": {},
   "outputs": [
    {
     "name": "stdout",
     "output_type": "stream",
     "text": [
      "\n",
      "    ALTER TABLE staging.census \n",
      "    DROP COLUMN IF EXISTS geom;\n",
      "    \n",
      "    ALTER TABLE staging.census ADD COLUMN geom GEOMETRY;\n",
      "\n",
      "    UPDATE staging.census\n",
      "    SET geom = GeomFromText(CONCAT('POINT(' ,longitude,' ', latitude, ')'), 4326);\n",
      "    \n",
      "Creating geom field\n",
      "Commit...\n",
      "completed...\n"
     ]
    }
   ],
   "source": [
    "geom_from_lat_lon(conn, 'staging.census', 'longitude', 'latitude', 'geom', '4326')"
   ]
  },
  {
   "cell_type": "code",
   "execution_count": 29,
   "metadata": {},
   "outputs": [
    {
     "name": "stdout",
     "output_type": "stream",
     "text": [
      "\n",
      "    ALTER TABLE staging.trips \n",
      "    DROP COLUMN IF EXISTS pickup_geom;\n",
      "    \n",
      "    ALTER TABLE staging.trips ADD COLUMN pickup_geom GEOMETRY;\n",
      "\n",
      "    UPDATE staging.trips\n",
      "    SET pickup_geom = GeomFromText(CONCAT('POINT(' ,pickup_longitude,' ', pickup_latitude, ')'), 4326);\n",
      "    \n",
      "Creating geom field\n",
      "Commit...\n",
      "completed...\n"
     ]
    }
   ],
   "source": [
    "geom_from_lat_lon(conn, 'staging.trips', 'pickup_longitude', 'pickup_latitude', 'pickup_geom', '4326')"
   ]
  },
  {
   "cell_type": "code",
   "execution_count": 30,
   "metadata": {},
   "outputs": [
    {
     "name": "stdout",
     "output_type": "stream",
     "text": [
      "\n",
      "    ALTER TABLE staging.trips \n",
      "    DROP COLUMN IF EXISTS dropoff_geom;\n",
      "    \n",
      "    ALTER TABLE staging.trips ADD COLUMN dropoff_geom GEOMETRY;\n",
      "\n",
      "    UPDATE staging.trips\n",
      "    SET dropoff_geom = GeomFromText(CONCAT('POINT(' ,dropoff_longitude,' ', dropoff_latitude, ')'), 4326);\n",
      "    \n",
      "Creating geom field\n",
      "Commit...\n",
      "completed...\n"
     ]
    }
   ],
   "source": [
    "geom_from_lat_lon(conn, 'staging.trips', 'dropoff_longitude', 'dropoff_latitude', 'dropoff_geom', '4326')"
   ]
  },
  {
   "cell_type": "code",
   "execution_count": 79,
   "metadata": {},
   "outputs": [],
   "source": [
    "def spatial_join(conn, schema, table, geom_point, new_table_name, fields, grid_pk_alias, zone_pk_alias):\n",
    "    \"\"\"\n",
    "    Description: Join and create new table using spatial join\n",
    "    Arguments:\n",
    "        conn: a connection to postgres db\n",
    "        schema: the schema to save and read the new table\n",
    "        table: point data table\n",
    "        geom_point: geom field for point data table\n",
    "        new_table_name: the name for the new table\n",
    "        fields: the fields the user want to save from the point data table\n",
    "        grid_pk_alias: the name for grid pk in the created table\n",
    "        zone_pk_alias: the name for taxi service zone pk in the created table\n",
    "    Returns:\n",
    "        None\n",
    "    \"\"\"\n",
    "    \n",
    "    fields_str = \" \"\n",
    "    tmp_lst = [f\"{schema}.{table}.{x},\" for x in fields]\n",
    "    tmp_lst.append(f\"{schema}.grid_250m.grid_id AS {grid_pk_alias}\")\n",
    "    fields_str = (fields_str.join(tmp_lst))\n",
    "    \n",
    "    query=f\"\"\"    \n",
    "    DROP TABLE IF EXISTS staging.{new_table_name};\n",
    "    \n",
    "    create table {schema}.{new_table_name} as with cte_sj as (\n",
    "    select\n",
    "        {fields_str}\n",
    "    from\n",
    "        {schema}.{table}\n",
    "    join {schema}.grid_250m on\n",
    "        ST_Contains({schema}.grid_250m.geom, {schema}.{table}.{geom_point}) )\n",
    "\n",
    "    select\n",
    "        cte_sj.*, {schema}.taxi_zones.taxi_zone_id AS {zone_pk_alias}\n",
    "    from \n",
    "        cte_sj\n",
    "    join {schema}.taxi_zones on\n",
    "        ST_Contains({schema}.taxi_zones.geom, cte_sj.{geom_point});\n",
    "    \"\"\"\n",
    "    \n",
    "    cursor = conn.cursor()\n",
    "    \n",
    "    print(\"Spatial Join tables\")\n",
    "    print(\"Creating new table may take a while\")\n",
    "    cursor.execute(query)\n",
    "    \n",
    "    print(\"Commit...\")\n",
    "    conn.commit()\n",
    "    print(\"Create table completed...\")"
   ]
  },
  {
   "cell_type": "code",
   "execution_count": 80,
   "metadata": {},
   "outputs": [],
   "source": [
    "census_fields = [\"totalpop\", \"men\", \"women\", \"hispanic\", \"white\", \"black\", \"native\", \"asian\", \"citizen\", \"income\", \"poverty\",\n",
    "\"childpoverty\", \"professional\", \"service\", \"office\", \"construction\", \"production\", \"drive\", \"carpool\", \"transit\", \"walk\",\n",
    "\"othertransp\", \"workathome\", \"meancommute\", \"employed\", \"privatework\", \"publicwork\", \"selfemployed\", \"familywork\",\n",
    "\"unemployment\", \"census_id\", \"geom\"]\n",
    "trips_fields = [\"passenger_count\", \"trip_duration\", \"trip_id\", \"pickup_geom\", \"dropoff_geom\"]"
   ]
  },
  {
   "cell_type": "code",
   "execution_count": 81,
   "metadata": {},
   "outputs": [
    {
     "name": "stdout",
     "output_type": "stream",
     "text": [
      "Spatial Join tables\n",
      "Creating new table may take a while\n",
      "Commit...\n",
      "Create table completed...\n"
     ]
    }
   ],
   "source": [
    "spatial_join(conn, \"staging\", \"census\", \"geom\", \"census_sj\", census_fields, \"grid_id\", \"taxi_zone_id\")"
   ]
  },
  {
   "cell_type": "code",
   "execution_count": 82,
   "metadata": {},
   "outputs": [
    {
     "name": "stdout",
     "output_type": "stream",
     "text": [
      "Spatial Join tables\n",
      "Creating new table may take a while\n",
      "Commit...\n",
      "Create table completed...\n"
     ]
    }
   ],
   "source": [
    "spatial_join(conn, \"staging\", \"trips\", \"pickup_geom\", \"pickup_sj\", trips_fields, \"pickup_grid_id\", \"pickup_taxi_zone_id\")"
   ]
  },
  {
   "cell_type": "code",
   "execution_count": 86,
   "metadata": {},
   "outputs": [
    {
     "name": "stdout",
     "output_type": "stream",
     "text": [
      "Spatial Join tables\n",
      "Creating new table may take a while\n",
      "Commit...\n",
      "Create table completed...\n"
     ]
    }
   ],
   "source": [
    "pickup_fields = [\"*\"]\n",
    "spatial_join(conn, \"staging\", \"pickup_sj\", \"dropoff_geom\", \"trips_sj\", pickup_fields, \"dropoff_grid_id\", \"dropoff_taxi_zone_id\")"
   ]
  },
  {
   "cell_type": "code",
   "execution_count": 84,
   "metadata": {},
   "outputs": [
    {
     "name": "stdout",
     "output_type": "stream",
     "text": [
      "SELECT COUNT(*) FROM staging.trips_sj\n"
     ]
    },
    {
     "data": {
      "text/plain": [
       "'table staging.trips_sj is not empty, count: 1454643'"
      ]
     },
     "execution_count": 84,
     "metadata": {},
     "output_type": "execute_result"
    }
   ],
   "source": [
    "check_empty(conn, \"staging.trips_sj\")"
   ]
  },
  {
   "cell_type": "code",
   "execution_count": 85,
   "metadata": {},
   "outputs": [
    {
     "name": "stdout",
     "output_type": "stream",
     "text": [
      "SELECT COUNT(*) FROM staging.census_sj\n"
     ]
    },
    {
     "data": {
      "text/plain": [
       "'table staging.census_sj is not empty, count: 11703'"
      ]
     },
     "execution_count": 85,
     "metadata": {},
     "output_type": "execute_result"
    }
   ],
   "source": [
    "check_empty(conn, \"staging.census_sj\")"
   ]
  },
  {
   "cell_type": "code",
   "execution_count": 87,
   "metadata": {},
   "outputs": [],
   "source": [
    "# QA to run before spatial join\n",
    "def fix_geom(conn, table, geom_field):\n",
    "    \"\"\"\n",
    "    Description: data quality function, check for invalid geom and try to fix them\n",
    "    Arguments:\n",
    "        conn: psycopg2 connection to postgres\n",
    "        table: table name to check\n",
    "        geom_field: geom field name\n",
    "    Returns:\n",
    "        None\n",
    "    \"\"\"\n",
    "    \n",
    "    count_query=f\"\"\"\n",
    "    select count(*) from {table} where st_isvalid({geom_field})=False;\n",
    "    \"\"\"\n",
    "    fix_query=f\"\"\"\n",
    "    update {table} \n",
    "    set {geom_field} = ST_MakeValid({geom_field}) \n",
    "    where st_isvalid({geom_field})=False;\n",
    "    \"\"\"\n",
    "\n",
    "    cursor = conn.cursor()\n",
    "\n",
    "    query = cursor.execute(count_query)\n",
    "    res = cursor.fetchall()[0][0]\n",
    "    if res > 0:\n",
    "        print(f\"Fixing table {table}\")\n",
    "        cursor.execute(count_query)\n",
    "    else:\n",
    "        print(f\"{table} does not have invalid geom\")\n",
    "    \n",
    "    \n",
    "    print(\"Commit...\")\n",
    "    conn.commit()\n",
    "    print(\"completed...\")"
   ]
  },
  {
   "cell_type": "code",
   "execution_count": 88,
   "metadata": {},
   "outputs": [
    {
     "name": "stdout",
     "output_type": "stream",
     "text": [
      "staging.grid_250m does not have invalid geom\n",
      "Commit...\n",
      "completed...\n"
     ]
    }
   ],
   "source": [
    "fix_geom(conn, \"staging.grid_250m\", \"geom\")"
   ]
  },
  {
   "cell_type": "code",
   "execution_count": 89,
   "metadata": {},
   "outputs": [
    {
     "name": "stdout",
     "output_type": "stream",
     "text": [
      "staging.taxi_zones does not have invalid geom\n",
      "Commit...\n",
      "completed...\n"
     ]
    }
   ],
   "source": [
    "fix_geom(conn, \"staging.taxi_zones\", \"geom\")"
   ]
  },
  {
   "cell_type": "code",
   "execution_count": 90,
   "metadata": {},
   "outputs": [
    {
     "name": "stdout",
     "output_type": "stream",
     "text": [
      "staging.trips does not have invalid geom\n",
      "Commit...\n",
      "completed...\n"
     ]
    }
   ],
   "source": [
    "fix_geom(conn, \"staging.trips\", \"dropoff_geom\")"
   ]
  },
  {
   "cell_type": "code",
   "execution_count": 91,
   "metadata": {},
   "outputs": [
    {
     "name": "stdout",
     "output_type": "stream",
     "text": [
      "staging.trips does not have invalid geom\n",
      "Commit...\n",
      "completed...\n"
     ]
    }
   ],
   "source": [
    "fix_geom(conn, \"staging.trips\", \"pickup_geom\")"
   ]
  },
  {
   "cell_type": "code",
   "execution_count": 92,
   "metadata": {},
   "outputs": [
    {
     "name": "stdout",
     "output_type": "stream",
     "text": [
      "staging.census does not have invalid geom\n",
      "Commit...\n",
      "completed...\n"
     ]
    }
   ],
   "source": [
    "fix_geom(conn, \"staging.census\", \"geom\")"
   ]
  },
  {
   "cell_type": "markdown",
   "metadata": {},
   "source": [
    "## Loading the data"
   ]
  },
  {
   "cell_type": "code",
   "execution_count": 11,
   "metadata": {},
   "outputs": [],
   "source": [
    "def insert_into_table(conn, old_table, new_table, truncate=True):\n",
    "    \"\"\"\n",
    "    Description: Create geom column from lat and lon columns in postgres table \n",
    "    Arguments:\n",
    "        conn: a connection to postgres db\n",
    "        old_table: from where to select the data\n",
    "        new_table: where to insert the data\n",
    "        truncate: clear the table if true\n",
    "    Returns:\n",
    "        None\n",
    "    \"\"\"\n",
    "\n",
    "    query = f\"\"\"\n",
    "    INSERT INTO {new_table}\n",
    "    SELECT * FROM {old_table}\n",
    "    \"\"\"\n",
    "    \n",
    "    if truncate:\n",
    "        trucate_query  = f\"TRUNCATE TABLE {new_table};\"\n",
    "        cursor.execute(trucate_query)\n",
    "    \n",
    "    print(query)\n",
    "    cursor = conn.cursor()\n",
    "    \n",
    "    print(\"Insert data to new table\")\n",
    "    cursor.execute(query)\n",
    "    \n",
    "    conn.commit()\n",
    "    print(\"completed...\")"
   ]
  },
  {
   "cell_type": "code",
   "execution_count": 12,
   "metadata": {},
   "outputs": [
    {
     "name": "stdout",
     "output_type": "stream",
     "text": [
      "\n",
      "    INSERT INTO data.nyc_census\n",
      "    SELECT * FROM staging.census_sj\n",
      "    \n",
      "Insert data to new table\n",
      "completed...\n"
     ]
    }
   ],
   "source": [
    "insert_into_table(conn, \"staging.census_sj\", \"data.nyc_census\")"
   ]
  },
  {
   "cell_type": "code",
   "execution_count": 13,
   "metadata": {},
   "outputs": [
    {
     "name": "stdout",
     "output_type": "stream",
     "text": [
      "\n",
      "    INSERT INTO data.nyc_grid_250m\n",
      "    SELECT * FROM staging.grid_250m\n",
      "    \n",
      "Insert data to new table\n",
      "completed...\n"
     ]
    }
   ],
   "source": [
    "insert_into_table(conn, \"staging.grid_250m\", \"data.nyc_grid_250m\")"
   ]
  },
  {
   "cell_type": "code",
   "execution_count": 14,
   "metadata": {},
   "outputs": [
    {
     "name": "stdout",
     "output_type": "stream",
     "text": [
      "\n",
      "    INSERT INTO data.nyc_taxi_trips\n",
      "    SELECT * FROM staging.trips_sj\n",
      "    \n",
      "Insert data to new table\n",
      "completed...\n"
     ]
    }
   ],
   "source": [
    "insert_into_table(conn, \"staging.trips_sj\", \"data.nyc_taxi_trips\")"
   ]
  },
  {
   "cell_type": "code",
   "execution_count": 15,
   "metadata": {},
   "outputs": [
    {
     "name": "stdout",
     "output_type": "stream",
     "text": [
      "\n",
      "    INSERT INTO data.nyc_taxi_zones\n",
      "    SELECT * FROM staging.taxi_zones\n",
      "    \n",
      "Insert data to new table\n",
      "completed...\n"
     ]
    }
   ],
   "source": [
    "insert_into_table(conn, \"staging.taxi_zones\", \"data.nyc_taxi_zones\")"
   ]
  },
  {
   "cell_type": "code",
   "execution_count": 16,
   "metadata": {},
   "outputs": [
    {
     "name": "stdout",
     "output_type": "stream",
     "text": [
      "\n",
      "    INSERT INTO data.nyc_trips_datetime\n",
      "    SELECT * FROM staging.trips_datetime\n",
      "    \n",
      "Insert data to new table\n",
      "completed...\n"
     ]
    }
   ],
   "source": [
    "insert_into_table(conn, \"staging.trips_datetime\", \"data.nyc_trips_datetime\")"
   ]
  },
  {
   "cell_type": "code",
   "execution_count": 18,
   "metadata": {},
   "outputs": [
    {
     "name": "stdout",
     "output_type": "stream",
     "text": [
      "SELECT COUNT(*) FROM data.nyc_trips_datetime\n"
     ]
    },
    {
     "data": {
      "text/plain": [
       "'table data.nyc_trips_datetime is not empty, count: 1458644'"
      ]
     },
     "execution_count": 18,
     "metadata": {},
     "output_type": "execute_result"
    }
   ],
   "source": [
    "check_empty(conn, \"data.nyc_trips_datetime\")"
   ]
  },
  {
   "cell_type": "code",
   "execution_count": 19,
   "metadata": {},
   "outputs": [
    {
     "name": "stdout",
     "output_type": "stream",
     "text": [
      "SELECT COUNT(*) FROM data.nyc_taxi_zones\n"
     ]
    },
    {
     "data": {
      "text/plain": [
       "'table data.nyc_taxi_zones is not empty, count: 263'"
      ]
     },
     "execution_count": 19,
     "metadata": {},
     "output_type": "execute_result"
    }
   ],
   "source": [
    "check_empty(conn, \"data.nyc_taxi_zones\")"
   ]
  },
  {
   "cell_type": "code",
   "execution_count": 20,
   "metadata": {},
   "outputs": [
    {
     "name": "stdout",
     "output_type": "stream",
     "text": [
      "SELECT COUNT(*) FROM data.nyc_taxi_trips\n"
     ]
    },
    {
     "data": {
      "text/plain": [
       "'table data.nyc_taxi_trips is not empty, count: 1454643'"
      ]
     },
     "execution_count": 20,
     "metadata": {},
     "output_type": "execute_result"
    }
   ],
   "source": [
    "check_empty(conn, \"data.nyc_taxi_trips\")"
   ]
  },
  {
   "cell_type": "code",
   "execution_count": 21,
   "metadata": {},
   "outputs": [
    {
     "name": "stdout",
     "output_type": "stream",
     "text": [
      "SELECT COUNT(*) FROM data.nyc_grid_250m\n"
     ]
    },
    {
     "data": {
      "text/plain": [
       "'table data.nyc_grid_250m is not empty, count: 14058'"
      ]
     },
     "execution_count": 21,
     "metadata": {},
     "output_type": "execute_result"
    }
   ],
   "source": [
    "check_empty(conn, \"data.nyc_grid_250m\")"
   ]
  },
  {
   "cell_type": "code",
   "execution_count": 22,
   "metadata": {},
   "outputs": [
    {
     "name": "stdout",
     "output_type": "stream",
     "text": [
      "SELECT COUNT(*) FROM data.nyc_census\n"
     ]
    },
    {
     "data": {
      "text/plain": [
       "'table data.nyc_census is not empty, count: 11703'"
      ]
     },
     "execution_count": 22,
     "metadata": {},
     "output_type": "execute_result"
    }
   ],
   "source": [
    "check_empty(conn, \"data.nyc_census\")"
   ]
  },
  {
   "cell_type": "code",
   "execution_count": null,
   "metadata": {},
   "outputs": [],
   "source": []
  }
 ],
 "metadata": {
  "kernelspec": {
   "display_name": "Python 3",
   "language": "python",
   "name": "python3"
  },
  "language_info": {
   "codemirror_mode": {
    "name": "ipython",
    "version": 3
   },
   "file_extension": ".py",
   "mimetype": "text/x-python",
   "name": "python",
   "nbconvert_exporter": "python",
   "pygments_lexer": "ipython3",
   "version": "3.8.5"
  }
 },
 "nbformat": 4,
 "nbformat_minor": 4
}
